{
 "cells": [
  {
   "cell_type": "code",
   "execution_count": 4,
   "metadata": {},
   "outputs": [
    {
     "name": "stderr",
     "output_type": "stream",
     "text": [
      "fatal: not a git repository (or any of the parent directories): .git\n"
     ]
    },
    {
     "name": "stdout",
     "output_type": "stream",
     "text": [
      "Repository already exists.\n",
      "Pulling latest changes...\n",
      "Error pulling changes: Command '['git', '-C', '/Users/thrisham/Desktop/cobol_code', 'pull']' returned non-zero exit status 128.\n",
      "Opening /Users/thrisham/Desktop/cobol_code/first.cbl in /Applications/Visual Studio Code.app/Contents/Resources/app/bin/code for editing...\n",
      "Error committing changes: Command '['git', '-C', '/Users/thrisham/Desktop/cobol_code', 'add', '.']' returned non-zero exit status 128.\n",
      "Error pushing changes: Command '['git', '-C', '/Users/thrisham/Desktop/cobol_code', 'push']' returned non-zero exit status 128.\n"
     ]
    },
    {
     "name": "stderr",
     "output_type": "stream",
     "text": [
      "fatal: not a git repository (or any of the parent directories): .git\n",
      "fatal: not a git repository (or any of the parent directories): .git\n"
     ]
    }
   ],
   "source": [
    "import os\n",
    "import subprocess\n",
    "\n",
    "# Define paths for your local repository and text editor\n",
    "REPO_PATH = \"/Users/thrisham/Desktop/cobol_code\"  # Local repository path\n",
    "TEXT_EDITOR = \"nano\"  # Change this to your preferred editor command ('code' for VSCode, 'nano', etc.)\n",
    "\n",
    "# Clone a repository if it doesn't exist\n",
    "def clone_repo(git_url):\n",
    "    if not os.path.exists(REPO_PATH):\n",
    "        print(f\"Cloning repository from {git_url}...\")\n",
    "        subprocess.run([\"git\", \"clone\", git_url, REPO_PATH], check=True)\n",
    "        print(\"Repository cloned successfully.\")\n",
    "    else:\n",
    "        print(\"Repository already exists.\")\n",
    "\n",
    "# Pull the latest changes from remote\n",
    "def pull_changes():\n",
    "    try:\n",
    "        print(\"Pulling latest changes...\")\n",
    "        subprocess.run([\"git\", \"-C\", REPO_PATH, \"pull\"], check=True)\n",
    "        print(\"Changes pulled successfully.\")\n",
    "    except subprocess.CalledProcessError as e:\n",
    "        print(f\"Error pulling changes: {e}\")\n",
    "\n",
    "# Open file in a text editor for editing\n",
    "import subprocess\n",
    "\n",
    "# Define full path to the editor executable\n",
    "TEXT_EDITOR_PATH = \"/Applications/Visual Studio Code.app/Contents/Resources/app/bin/code\"  # macOS path for VS Code\n",
    "\n",
    "def open_file_for_editing(file_path):\n",
    "    file_full_path = os.path.join(REPO_PATH, file_path)\n",
    "    if os.path.exists(file_full_path):\n",
    "        print(f\"Opening {file_full_path} in {TEXT_EDITOR_PATH} for editing...\")\n",
    "        subprocess.run([TEXT_EDITOR_PATH, file_full_path])\n",
    "    else:\n",
    "        print(f\"File {file_path} does not exist in the repository.\")\n",
    "\n",
    "\n",
    "# Add and commit changes\n",
    "def add_commit_changes(commit_message):\n",
    "    try:\n",
    "        subprocess.run([\"git\", \"-C\", REPO_PATH, \"add\", \".\"], check=True)  # Add all changes\n",
    "        subprocess.run([\"git\", \"-C\", REPO_PATH, \"commit\", \"-m\", commit_message], check=True)\n",
    "        print(\"Changes committed.\")\n",
    "    except subprocess.CalledProcessError as e:\n",
    "        print(f\"Error committing changes: {e}\")\n",
    "\n",
    "# Push changes to the remote repository\n",
    "def push_changes():\n",
    "    try:\n",
    "        subprocess.run([\"git\", \"-C\", REPO_PATH, \"push\"], check=True)\n",
    "        print(\"Changes pushed to the remote repository.\")\n",
    "    except subprocess.CalledProcessError as e:\n",
    "        print(f\"Error pushing changes: {e}\")\n",
    "\n",
    "# Automating the whole process\n",
    "def automate_git_operations():\n",
    "    git_url = input(\"Enter the GitHub repository URL (if you need to clone): \").strip()\n",
    "    clone_repo(git_url)\n",
    "    \n",
    "    # Pull latest changes\n",
    "    pull_changes()\n",
    "\n",
    "    # Edit file\n",
    "    file_to_edit = input(\"Enter the file name (with path relative to repo) to edit: \").strip()\n",
    "    open_file_for_editing(file_to_edit)\n",
    "    \n",
    "    # Commit changes\n",
    "    commit_message = input(\"Enter commit message: \").strip()\n",
    "    add_commit_changes(commit_message)\n",
    "    \n",
    "    # Push changes\n",
    "    push_changes()\n",
    "\n",
    "automate_git_operations()\n",
    "#https://github.com/Thrisha020\n",
    "#/Users/thrisham/Desktop/cobol_code/first.cbl"
   ]
  },
  {
   "cell_type": "code",
   "execution_count": 6,
   "metadata": {},
   "outputs": [
    {
     "name": "stdout",
     "output_type": "stream",
     "text": [
      "Hello! I am your Git assistant chatbot.\n"
     ]
    },
    {
     "name": "stderr",
     "output_type": "stream",
     "text": [
      "fatal: not a git repository (or any of the parent directories): .git\n"
     ]
    },
    {
     "name": "stdout",
     "output_type": "stream",
     "text": [
      "Repository already exists.\n",
      "Pulling latest changes...\n",
      "Error pulling changes: Command '['git', '-C', '/Users/thrisham/Desktop/cobol_code', 'pull']' returned non-zero exit status 128.\n",
      "Opening /Users/thrisham/Desktop/cobol_code/first.cbl in code for editing...\n"
     ]
    },
    {
     "ename": "FileNotFoundError",
     "evalue": "[Errno 2] No such file or directory: 'code'",
     "output_type": "error",
     "traceback": [
      "\u001b[0;31m---------------------------------------------------------------------------\u001b[0m",
      "\u001b[0;31mFileNotFoundError\u001b[0m                         Traceback (most recent call last)",
      "Cell \u001b[0;32mIn[6], line 74\u001b[0m\n\u001b[1;32m     69\u001b[0m     push_changes()\n\u001b[1;32m     71\u001b[0m     \u001b[38;5;28mprint\u001b[39m(\u001b[38;5;124m\"\u001b[39m\u001b[38;5;124mThank you for using the Git assistant chatbot. Have a great day!\u001b[39m\u001b[38;5;124m\"\u001b[39m)\n\u001b[0;32m---> 74\u001b[0m \u001b[43mchatbot\u001b[49m\u001b[43m(\u001b[49m\u001b[43m)\u001b[49m\n",
      "Cell \u001b[0;32mIn[6], line 62\u001b[0m, in \u001b[0;36mchatbot\u001b[0;34m()\u001b[0m\n\u001b[1;32m     60\u001b[0m \u001b[38;5;66;03m# Ask user for file to edit\u001b[39;00m\n\u001b[1;32m     61\u001b[0m file_to_edit \u001b[38;5;241m=\u001b[39m \u001b[38;5;28minput\u001b[39m(\u001b[38;5;124m\"\u001b[39m\u001b[38;5;124mEnter the file name (with path relative to the repo) to edit: \u001b[39m\u001b[38;5;124m\"\u001b[39m)\u001b[38;5;241m.\u001b[39mstrip()\n\u001b[0;32m---> 62\u001b[0m \u001b[43mopen_file_for_editing\u001b[49m\u001b[43m(\u001b[49m\u001b[43mfile_to_edit\u001b[49m\u001b[43m)\u001b[49m\n\u001b[1;32m     64\u001b[0m \u001b[38;5;66;03m# Ask for commit message and commit changes\u001b[39;00m\n\u001b[1;32m     65\u001b[0m commit_message \u001b[38;5;241m=\u001b[39m \u001b[38;5;28minput\u001b[39m(\u001b[38;5;124m\"\u001b[39m\u001b[38;5;124mEnter commit message: \u001b[39m\u001b[38;5;124m\"\u001b[39m)\u001b[38;5;241m.\u001b[39mstrip()\n",
      "Cell \u001b[0;32mIn[6], line 29\u001b[0m, in \u001b[0;36mopen_file_for_editing\u001b[0;34m(file_path)\u001b[0m\n\u001b[1;32m     27\u001b[0m \u001b[38;5;28;01mif\u001b[39;00m os\u001b[38;5;241m.\u001b[39mpath\u001b[38;5;241m.\u001b[39mexists(file_full_path):\n\u001b[1;32m     28\u001b[0m     \u001b[38;5;28mprint\u001b[39m(\u001b[38;5;124mf\u001b[39m\u001b[38;5;124m\"\u001b[39m\u001b[38;5;124mOpening \u001b[39m\u001b[38;5;132;01m{\u001b[39;00mfile_full_path\u001b[38;5;132;01m}\u001b[39;00m\u001b[38;5;124m in \u001b[39m\u001b[38;5;132;01m{\u001b[39;00mTEXT_EDITOR\u001b[38;5;132;01m}\u001b[39;00m\u001b[38;5;124m for editing...\u001b[39m\u001b[38;5;124m\"\u001b[39m)\n\u001b[0;32m---> 29\u001b[0m     \u001b[43msubprocess\u001b[49m\u001b[38;5;241;43m.\u001b[39;49m\u001b[43mrun\u001b[49m\u001b[43m(\u001b[49m\u001b[43m[\u001b[49m\u001b[43mTEXT_EDITOR\u001b[49m\u001b[43m,\u001b[49m\u001b[43m \u001b[49m\u001b[43mfile_full_path\u001b[49m\u001b[43m]\u001b[49m\u001b[43m)\u001b[49m\n\u001b[1;32m     30\u001b[0m \u001b[38;5;28;01melse\u001b[39;00m:\n\u001b[1;32m     31\u001b[0m     \u001b[38;5;28mprint\u001b[39m(\u001b[38;5;124mf\u001b[39m\u001b[38;5;124m\"\u001b[39m\u001b[38;5;124mFile \u001b[39m\u001b[38;5;132;01m{\u001b[39;00mfile_path\u001b[38;5;132;01m}\u001b[39;00m\u001b[38;5;124m does not exist in the repository.\u001b[39m\u001b[38;5;124m\"\u001b[39m)\n",
      "File \u001b[0;32m/Library/Frameworks/Python.framework/Versions/3.12/lib/python3.12/subprocess.py:548\u001b[0m, in \u001b[0;36mrun\u001b[0;34m(input, capture_output, timeout, check, *popenargs, **kwargs)\u001b[0m\n\u001b[1;32m    545\u001b[0m     kwargs[\u001b[38;5;124m'\u001b[39m\u001b[38;5;124mstdout\u001b[39m\u001b[38;5;124m'\u001b[39m] \u001b[38;5;241m=\u001b[39m PIPE\n\u001b[1;32m    546\u001b[0m     kwargs[\u001b[38;5;124m'\u001b[39m\u001b[38;5;124mstderr\u001b[39m\u001b[38;5;124m'\u001b[39m] \u001b[38;5;241m=\u001b[39m PIPE\n\u001b[0;32m--> 548\u001b[0m \u001b[38;5;28;01mwith\u001b[39;00m \u001b[43mPopen\u001b[49m\u001b[43m(\u001b[49m\u001b[38;5;241;43m*\u001b[39;49m\u001b[43mpopenargs\u001b[49m\u001b[43m,\u001b[49m\u001b[43m \u001b[49m\u001b[38;5;241;43m*\u001b[39;49m\u001b[38;5;241;43m*\u001b[39;49m\u001b[43mkwargs\u001b[49m\u001b[43m)\u001b[49m \u001b[38;5;28;01mas\u001b[39;00m process:\n\u001b[1;32m    549\u001b[0m     \u001b[38;5;28;01mtry\u001b[39;00m:\n\u001b[1;32m    550\u001b[0m         stdout, stderr \u001b[38;5;241m=\u001b[39m process\u001b[38;5;241m.\u001b[39mcommunicate(\u001b[38;5;28minput\u001b[39m, timeout\u001b[38;5;241m=\u001b[39mtimeout)\n",
      "File \u001b[0;32m/Library/Frameworks/Python.framework/Versions/3.12/lib/python3.12/subprocess.py:1026\u001b[0m, in \u001b[0;36mPopen.__init__\u001b[0;34m(self, args, bufsize, executable, stdin, stdout, stderr, preexec_fn, close_fds, shell, cwd, env, universal_newlines, startupinfo, creationflags, restore_signals, start_new_session, pass_fds, user, group, extra_groups, encoding, errors, text, umask, pipesize, process_group)\u001b[0m\n\u001b[1;32m   1022\u001b[0m         \u001b[38;5;28;01mif\u001b[39;00m \u001b[38;5;28mself\u001b[39m\u001b[38;5;241m.\u001b[39mtext_mode:\n\u001b[1;32m   1023\u001b[0m             \u001b[38;5;28mself\u001b[39m\u001b[38;5;241m.\u001b[39mstderr \u001b[38;5;241m=\u001b[39m io\u001b[38;5;241m.\u001b[39mTextIOWrapper(\u001b[38;5;28mself\u001b[39m\u001b[38;5;241m.\u001b[39mstderr,\n\u001b[1;32m   1024\u001b[0m                     encoding\u001b[38;5;241m=\u001b[39mencoding, errors\u001b[38;5;241m=\u001b[39merrors)\n\u001b[0;32m-> 1026\u001b[0m     \u001b[38;5;28;43mself\u001b[39;49m\u001b[38;5;241;43m.\u001b[39;49m\u001b[43m_execute_child\u001b[49m\u001b[43m(\u001b[49m\u001b[43margs\u001b[49m\u001b[43m,\u001b[49m\u001b[43m \u001b[49m\u001b[43mexecutable\u001b[49m\u001b[43m,\u001b[49m\u001b[43m \u001b[49m\u001b[43mpreexec_fn\u001b[49m\u001b[43m,\u001b[49m\u001b[43m \u001b[49m\u001b[43mclose_fds\u001b[49m\u001b[43m,\u001b[49m\n\u001b[1;32m   1027\u001b[0m \u001b[43m                        \u001b[49m\u001b[43mpass_fds\u001b[49m\u001b[43m,\u001b[49m\u001b[43m \u001b[49m\u001b[43mcwd\u001b[49m\u001b[43m,\u001b[49m\u001b[43m \u001b[49m\u001b[43menv\u001b[49m\u001b[43m,\u001b[49m\n\u001b[1;32m   1028\u001b[0m \u001b[43m                        \u001b[49m\u001b[43mstartupinfo\u001b[49m\u001b[43m,\u001b[49m\u001b[43m \u001b[49m\u001b[43mcreationflags\u001b[49m\u001b[43m,\u001b[49m\u001b[43m \u001b[49m\u001b[43mshell\u001b[49m\u001b[43m,\u001b[49m\n\u001b[1;32m   1029\u001b[0m \u001b[43m                        \u001b[49m\u001b[43mp2cread\u001b[49m\u001b[43m,\u001b[49m\u001b[43m \u001b[49m\u001b[43mp2cwrite\u001b[49m\u001b[43m,\u001b[49m\n\u001b[1;32m   1030\u001b[0m \u001b[43m                        \u001b[49m\u001b[43mc2pread\u001b[49m\u001b[43m,\u001b[49m\u001b[43m \u001b[49m\u001b[43mc2pwrite\u001b[49m\u001b[43m,\u001b[49m\n\u001b[1;32m   1031\u001b[0m \u001b[43m                        \u001b[49m\u001b[43merrread\u001b[49m\u001b[43m,\u001b[49m\u001b[43m \u001b[49m\u001b[43merrwrite\u001b[49m\u001b[43m,\u001b[49m\n\u001b[1;32m   1032\u001b[0m \u001b[43m                        \u001b[49m\u001b[43mrestore_signals\u001b[49m\u001b[43m,\u001b[49m\n\u001b[1;32m   1033\u001b[0m \u001b[43m                        \u001b[49m\u001b[43mgid\u001b[49m\u001b[43m,\u001b[49m\u001b[43m \u001b[49m\u001b[43mgids\u001b[49m\u001b[43m,\u001b[49m\u001b[43m \u001b[49m\u001b[43muid\u001b[49m\u001b[43m,\u001b[49m\u001b[43m \u001b[49m\u001b[43mumask\u001b[49m\u001b[43m,\u001b[49m\n\u001b[1;32m   1034\u001b[0m \u001b[43m                        \u001b[49m\u001b[43mstart_new_session\u001b[49m\u001b[43m,\u001b[49m\u001b[43m \u001b[49m\u001b[43mprocess_group\u001b[49m\u001b[43m)\u001b[49m\n\u001b[1;32m   1035\u001b[0m \u001b[38;5;28;01mexcept\u001b[39;00m:\n\u001b[1;32m   1036\u001b[0m     \u001b[38;5;66;03m# Cleanup if the child failed starting.\u001b[39;00m\n\u001b[1;32m   1037\u001b[0m     \u001b[38;5;28;01mfor\u001b[39;00m f \u001b[38;5;129;01min\u001b[39;00m \u001b[38;5;28mfilter\u001b[39m(\u001b[38;5;28;01mNone\u001b[39;00m, (\u001b[38;5;28mself\u001b[39m\u001b[38;5;241m.\u001b[39mstdin, \u001b[38;5;28mself\u001b[39m\u001b[38;5;241m.\u001b[39mstdout, \u001b[38;5;28mself\u001b[39m\u001b[38;5;241m.\u001b[39mstderr)):\n",
      "File \u001b[0;32m/Library/Frameworks/Python.framework/Versions/3.12/lib/python3.12/subprocess.py:1955\u001b[0m, in \u001b[0;36mPopen._execute_child\u001b[0;34m(self, args, executable, preexec_fn, close_fds, pass_fds, cwd, env, startupinfo, creationflags, shell, p2cread, p2cwrite, c2pread, c2pwrite, errread, errwrite, restore_signals, gid, gids, uid, umask, start_new_session, process_group)\u001b[0m\n\u001b[1;32m   1953\u001b[0m     err_msg \u001b[38;5;241m=\u001b[39m os\u001b[38;5;241m.\u001b[39mstrerror(errno_num)\n\u001b[1;32m   1954\u001b[0m \u001b[38;5;28;01mif\u001b[39;00m err_filename \u001b[38;5;129;01mis\u001b[39;00m \u001b[38;5;129;01mnot\u001b[39;00m \u001b[38;5;28;01mNone\u001b[39;00m:\n\u001b[0;32m-> 1955\u001b[0m     \u001b[38;5;28;01mraise\u001b[39;00m child_exception_type(errno_num, err_msg, err_filename)\n\u001b[1;32m   1956\u001b[0m \u001b[38;5;28;01melse\u001b[39;00m:\n\u001b[1;32m   1957\u001b[0m     \u001b[38;5;28;01mraise\u001b[39;00m child_exception_type(errno_num, err_msg)\n",
      "\u001b[0;31mFileNotFoundError\u001b[0m: [Errno 2] No such file or directory: 'code'"
     ]
    }
   ],
   "source": [
    "import os\n",
    "import subprocess\n",
    "import webbrowser\n",
    "\n",
    "# Define paths and configurations\n",
    "REPO_PATH = \"/Users/thrisham/Desktop/cobol_code\"  # Update with your repository path\n",
    "TEXT_EDITOR = \"nano\"  # Change to your preferred text editor command ('code' for VSCode, 'nano', etc.)\n",
    "\n",
    "def clone_repo(git_url):\n",
    "    if not os.path.exists(REPO_PATH):\n",
    "        print(f\"Cloning repository from {git_url}...\")\n",
    "        subprocess.run([\"git\", \"clone\", git_url, REPO_PATH], check=True)\n",
    "        print(\"Repository cloned successfully.\")\n",
    "    else:\n",
    "        print(\"Repository already exists.\")\n",
    "\n",
    "def pull_changes():\n",
    "    try:\n",
    "        print(\"Pulling latest changes...\")\n",
    "        subprocess.run([\"git\", \"-C\", REPO_PATH, \"pull\"], check=True)\n",
    "        print(\"Changes pulled successfully.\")\n",
    "    except subprocess.CalledProcessError as e:\n",
    "        print(f\"Error pulling changes: {e}\")\n",
    "\n",
    "import subprocess\n",
    "\n",
    "# Define full path to the editor executable\n",
    "TEXT_EDITOR_PATH = \"/Applications/Visual Studio Code.app/Contents/Resources/app/bin/code\"  # macOS path for VS Code\n",
    "\n",
    "def open_file_for_editing(file_path):\n",
    "    file_full_path = os.path.join(REPO_PATH, file_path)\n",
    "    if os.path.exists(file_full_path):\n",
    "        print(f\"Opening {file_full_path} in {TEXT_EDITOR_PATH} for editing...\")\n",
    "        subprocess.run([TEXT_EDITOR_PATH, file_full_path])\n",
    "    else:\n",
    "        print(f\"File {file_path} does not exist in the repository.\")\n",
    "\n",
    "def add_commit_changes(commit_message):\n",
    "    try:\n",
    "        subprocess.run([\"git\", \"-C\", REPO_PATH, \"add\", \".\"], check=True)  # Add all changes\n",
    "        subprocess.run([\"git\", \"-C\", REPO_PATH, \"commit\", \"-m\", commit_message], check=True)\n",
    "        print(\"Changes committed.\")\n",
    "    except subprocess.CalledProcessError as e:\n",
    "        print(f\"Error committing changes: {e}\")\n",
    "\n",
    "def push_changes():\n",
    "    try:\n",
    "        subprocess.run([\"git\", \"-C\", REPO_PATH, \"push\"], check=True)\n",
    "        print(\"Changes pushed to the remote repository.\")\n",
    "    except subprocess.CalledProcessError as e:\n",
    "        print(f\"Error pushing changes: {e}\")\n",
    "\n",
    "def chatbot():\n",
    "    print(\"Hello! I am your Git assistant chatbot.\")\n",
    "    \n",
    "    # Ask for repository URL if not already cloned\n",
    "    git_url = input(\"Enter the GitHub repository URL (or press Enter to use the existing repository): \").strip()\n",
    "    \n",
    "    if git_url:\n",
    "        clone_repo(git_url)\n",
    "    \n",
    "    # Pull latest changes\n",
    "    pull_changes()\n",
    "    \n",
    "    # Ask user for file to edit\n",
    "    file_to_edit = input(\"Enter the file name (with path relative to the repo) to edit: \").strip()\n",
    "    open_file_for_editing(file_to_edit)\n",
    "    \n",
    "    # Ask for commit message and commit changes\n",
    "    commit_message = input(\"Enter commit message: \").strip()\n",
    "    add_commit_changes(commit_message)\n",
    "    \n",
    "    # Push changes\n",
    "    push_changes()\n",
    "    \n",
    "    print(\"Thank you for using the Git assistant chatbot. Have a great day!\")\n",
    "\n",
    "\n",
    "chatbot()\n"
   ]
  }
 ],
 "metadata": {
  "kernelspec": {
   "display_name": "Python 3",
   "language": "python",
   "name": "python3"
  },
  "language_info": {
   "codemirror_mode": {
    "name": "ipython",
    "version": 3
   },
   "file_extension": ".py",
   "mimetype": "text/x-python",
   "name": "python",
   "nbconvert_exporter": "python",
   "pygments_lexer": "ipython3",
   "version": "3.12.4"
  }
 },
 "nbformat": 4,
 "nbformat_minor": 2
}
